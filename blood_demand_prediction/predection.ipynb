{
 "cells": [
  {
   "cell_type": "code",
   "execution_count": 12,
   "id": "c2a0bc8d",
   "metadata": {},
   "outputs": [],
   "source": [
    "import pandas as pd"
   ]
  },
  {
   "cell_type": "code",
   "execution_count": 13,
   "id": "0c43fec3",
   "metadata": {},
   "outputs": [
    {
     "name": "stderr",
     "output_type": "stream",
     "text": [
      "C:\\Users\\USER\\AppData\\Local\\Temp\\ipykernel_15000\\3391575380.py:2: UserWarning: Parsing dates in DD/MM/YYYY format when dayfirst=False (the default) was specified. This may lead to inconsistently parsed dates! Specify a format to ensure consistent parsing.\n",
      "  df['Date'] = pd.to_datetime(df['Date'])\n"
     ]
    }
   ],
   "source": [
    "df = pd.read_csv(\"data_darah_2020_2025.csv\")\n",
    "df['Date'] = pd.to_datetime(df['Date'])\n",
    "df['Month'] = df['Date'].dt.month\n",
    "df['Day'] = df['Date'].dt.day\n",
    "df['Weekday'] = df['Date'].dt.weekday\n",
    "df['State'] = df['State'].astype('category').cat.codes\n"
   ]
  },
  {
   "cell_type": "code",
   "execution_count": 14,
   "id": "454f53c8",
   "metadata": {},
   "outputs": [],
   "source": [
    "# Define features\n",
    "features = [\n",
    "    'State', 'Month', 'Day', 'Weekday',\n",
    "    'Location_centre', 'Location_mobile',\n",
    "    'Type_wholeblood', 'Type_apheresis_platelet', 'Type_apheresis_plasma', 'Type_other',\n",
    "    'Social_civilian', 'Social_student', 'Social_policearmy',\n",
    "    'Donations_new', 'Donations_regular', 'Donations_irregular'\n",
    "]\n",
    "X = df[features]\n",
    "y_a = df['Blood_a']\n",
    "y_b = df['Blood_b']\n",
    "y_o = df['Blood_o']\n",
    "y_ab = df['Blood_ab']"
   ]
  },
  {
   "cell_type": "code",
   "execution_count": 15,
   "id": "a45c007c",
   "metadata": {},
   "outputs": [
    {
     "data": {
      "text/plain": [
       "['model_blood_ab.pkl']"
      ]
     },
     "execution_count": 15,
     "metadata": {},
     "output_type": "execute_result"
    }
   ],
   "source": [
    "from sklearn.ensemble import RandomForestRegressor\n",
    "from sklearn.model_selection import train_test_split\n",
    "import joblib\n",
    "\n",
    "# Blood A\n",
    "X_train, X_test, y_train, y_test = train_test_split(X, y_a, test_size=0.2, random_state=42)\n",
    "model_a = RandomForestRegressor(n_estimators=100, random_state=42)\n",
    "model_a.fit(X_train, y_train)\n",
    "joblib.dump(model_a, 'model_blood_a.pkl')\n",
    "\n",
    "# Repeat for B, O, AB\n",
    "model_b = RandomForestRegressor().fit(X, y_b)\n",
    "joblib.dump(model_b, 'model_blood_b.pkl')\n",
    "\n",
    "model_o = RandomForestRegressor().fit(X, y_o)\n",
    "joblib.dump(model_o, 'model_blood_o.pkl')\n",
    "\n",
    "model_ab = RandomForestRegressor().fit(X, y_ab)\n",
    "joblib.dump(model_ab, 'model_blood_ab.pkl')\n"
   ]
  }
 ],
 "metadata": {
  "kernelspec": {
   "display_name": "base",
   "language": "python",
   "name": "python3"
  },
  "language_info": {
   "codemirror_mode": {
    "name": "ipython",
    "version": 3
   },
   "file_extension": ".py",
   "mimetype": "text/x-python",
   "name": "python",
   "nbconvert_exporter": "python",
   "pygments_lexer": "ipython3",
   "version": "3.9.12"
  }
 },
 "nbformat": 4,
 "nbformat_minor": 5
}
